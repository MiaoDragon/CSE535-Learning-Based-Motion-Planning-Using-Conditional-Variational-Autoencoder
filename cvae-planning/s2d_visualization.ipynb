{
 "cells": [
  {
   "cell_type": "code",
   "execution_count": 1,
   "metadata": {},
   "outputs": [],
   "source": [
    "## Visualize the trained model\n",
    "\n",
    "import sys\n",
    "#sys.path.append('deps/sparse_rrt')\n",
    "sys.path.append('.')\n",
    "import torch\n",
    "import torch.nn as nn\n",
    "import importlib\n",
    "#from model import ae_s2d\n",
    "#from model import cvae_s2d_model1 as cvae_s2d\n",
    "\n",
    "from model.SMPNet import SMPNet\n",
    "from model.SMPPathNet import SMPPathNet\n",
    "from model.SMPPathWithPriorNet import SMPPathWithPriorNet\n",
    "\n",
    "#from tools import data_loader\n",
    "from tools.utility import *\n",
    "#from plan_utility import cart_pole, cart_pole_obs, pendulum, acrobot_obs, car_obs\n",
    "import argparse\n",
    "import numpy as np\n",
    "import random\n",
    "import os\n",
    "from tqdm import tqdm, trange\n"
   ]
  },
  {
   "cell_type": "code",
   "execution_count": 2,
   "metadata": {},
   "outputs": [
    {
     "name": "stdout",
     "output_type": "stream",
     "text": [
      "Namespace(param_name='cvae_s2d_param3.yaml', param_path='param/train/')\n"
     ]
    },
    {
     "name": "stderr",
     "output_type": "stream",
     "text": [
      "<ipython-input-2-9e48851f11ea>:16: YAMLLoadWarning: calling yaml.load() without Loader=... is deprecated, as the default Loader is unsafe. Please read https://msg.pyyaml.org/load for full details.\n",
      "  param = yaml.load(param_f)\n"
     ]
    }
   ],
   "source": [
    "import yaml\n",
    "# try:\n",
    "#     from yaml import CLoader as Loader, CDumper as Dumper\n",
    "# except ImportError:\n",
    "#     from yaml import Loader, Dumper\n",
    "\n",
    "parser = argparse.ArgumentParser()\n",
    "# for training\n",
    "parser.add_argument('--param_path', type=str, default='param/train/',help='path for loading training param')\n",
    "parser.add_argument('--param_name', type=str, default=\"cvae_s2d_param3.yaml\")\n",
    "\n",
    "# parse the parameter file\n",
    "args = parser.parse_args(\"\")\n",
    "print(args)\n",
    "param_f = open(args.param_path+args.param_name, 'r')\n",
    "param = yaml.load(param_f)\n",
    "param = DictDot(param)\n",
    "args = param\n",
    "args.start_epoch = 3\n",
    "args.s = 0\n",
    "args.sp = 6000\n",
    "args.start_iter =  0"
   ]
  },
  {
   "cell_type": "code",
   "execution_count": 3,
   "metadata": {},
   "outputs": [
    {
     "name": "stdout",
     "output_type": "stream",
     "text": [
      "length of the output of one encoder\n",
      "343\n",
      "SMPPathWithPriorNet\n"
     ]
    }
   ],
   "source": [
    "if torch.cuda.is_available():\n",
    "    torch.cuda.set_device(args.device)\n",
    "# environment setting\n",
    "cae = None\n",
    "mlp = None\n",
    "\n",
    "# load net\n",
    "# load previously trained model if start epoch > 0\n",
    "\n",
    "# dynamically import model\n",
    "ae_module = importlib.import_module('model.ae_%s_model_%d' % (args.env_type, args.model_id))\n",
    "cvae_module = importlib.import_module('model.cvae_%s_model_%d' % (args.env_type, args.model_id))\n",
    "e_net = ae_module.Encoder(input_size=args.e_net_input_size, output_size=args.e_net_output_size)\n",
    "cvae = cvae_module.CVAE(input_size=args.input_size, latent_size=args.latent_size, cond_size=args.cond_size)\n",
    "\n",
    "data_loader = importlib.import_module('tools.data_loader_%s' % (args.env_type))\n",
    "plan_util = importlib.import_module('plan_util.%s' % (args.env_type))\n",
    "normalize = plan_util.normalize\n",
    "unnormalize = plan_util.unnormalize\n",
    "\n",
    "if args.model_type == \"SMPNet\":\n",
    "    smpnet = SMPNet(e_net, cvae)\n",
    "elif args.model_type == \"SMPPathNet\":\n",
    "    smpnet = SMPPathNet(e_net, cvae)\n",
    "elif args.model_type == \"SMPPathWithPriorNet\":\n",
    "    smpnet = SMPPathWithPriorNet(e_net, cvae)\n",
    "\n",
    "\n",
    "model_dir = args.model_dir + '%s/%s/model_%d/param_%s/' % (args.env_type, args.model_type, args.model_id, args.param_name)\n",
    "model_path='smpnet_epoch_%d_iter_%d.pkl' %(args.start_epoch, args.start_iter)\n",
    "torch_seed, np_seed, py_seed = 0, 0, 0\n",
    "if args.start_epoch > 0:\n",
    "    load_net_state(smpnet, os.path.join(model_dir, model_path))\n",
    "    torch_seed, np_seed, py_seed = load_seed(os.path.join(model_dir, model_path))\n",
    "    # set seed after loading\n",
    "    torch.manual_seed(torch_seed)\n",
    "    np.random.seed(np_seed)\n",
    "    random.seed(py_seed)\n",
    "\n",
    "if torch.cuda.is_available():\n",
    "    smpnet.cuda()\n",
    "    smpnet.cvae.cuda()\n",
    "    smpnet.e_net.cuda()\n",
    "    if args.opt == 'Adagrad':\n",
    "        smpnet.set_opt(torch.optim.Adagrad, lr=args.learning_rate)\n",
    "    elif args.opt == 'Adam':\n",
    "        smpnet.set_opt(torch.optim.Adam, lr=args.learning_rate)\n",
    "    elif args.opt == 'SGD':\n",
    "        smpnet.set_opt(torch.optim.SGD, lr=args.learning_rate, momentum=0.9)\n",
    "    elif args.opt == 'ASGD':\n",
    "        smpnet.set_opt(torch.optim.ASGD, lr=args.learning_rate)\n",
    "if args.start_epoch > 0:\n",
    "    load_opt_state(smpnet, os.path.join(model_dir, model_path))\n",
    "data_folder = args.data_folder+args.env_type+'/'\n",
    "print(args.model_type)\n",
    "load_dis_ratio = None\n",
    "if args.model_type == \"SMPPathNet\":\n",
    "    load_dis_ratio = True\n",
    "elif args.model_type == \"SMPPathWithPriorNet\":\n",
    "    load_dis_ratio = True\n",
    "elif args.model_type == \"SMPNet\":\n",
    "    load_dis_ratio = False"
   ]
  },
  {
   "cell_type": "code",
   "execution_count": 4,
   "metadata": {},
   "outputs": [
    {
     "name": "stdout",
     "output_type": "stream",
     "text": [
      "mean loss: 0.007956\n"
     ]
    }
   ],
   "source": [
    "# test to see the error\n",
    "waypoint_dataset, cond_dataset, obs, env_indices \\\n",
    "         = data_loader.load_train_dataset(N=10, NP=200, s=0, sp=0,\n",
    "                                            data_folder=data_folder, load_dis_ratio=load_dis_ratio)\n",
    "cond_dataset = np.array(cond_dataset)\n",
    "# randomize the dataset before training\n",
    "data=list(zip(waypoint_dataset, cond_dataset, env_indices))\n",
    "random.shuffle(data)\n",
    "waypoint_dataset,cond_dataset,env_indices=list(zip(*data))\n",
    "waypoint_dataset = list(waypoint_dataset)\n",
    "cond_dataset = list(cond_dataset)\n",
    "env_indices = list(env_indices)\n",
    "waypoint_dataset = np.array(waypoint_dataset)\n",
    "cond_dataset = np.array(cond_dataset)\n",
    "env_indices = np.array(env_indices)\n",
    "\n",
    "smpnet.eval()\n",
    "epoch_val_num = 2048\n",
    "waypoint_dataset_i = waypoint_dataset[:epoch_val_num]\n",
    "cond_dataset_i = cond_dataset[:epoch_val_num]\n",
    "env_indices_i = env_indices[:epoch_val_num]\n",
    "bi = waypoint_dataset_i\n",
    "bi = torch.FloatTensor(bi)\n",
    "bi = normalize(bi, args.world_size)\n",
    "bi=to_var(bi)\n",
    "\n",
    "cond_dataset_i = torch.FloatTensor(cond_dataset_i)\n",
    "cond_dataset_i = normalize(cond_dataset_i, args.world_size)  # assume the first Sx2 are start and goal\n",
    "cond_dataset_i = to_var(cond_dataset_i)\n",
    "\n",
    "bobs = obs[env_indices_i].astype(np.float32)\n",
    "bobs = torch.FloatTensor(bobs)\n",
    "bobs = to_var(bobs)\n",
    "loss = smpnet.loss(bi, smpnet.train_forward(bi, cond_dataset_i, bobs), beta=args.beta)\n",
    "loss = torch.mean(loss)\n",
    "print('mean loss: %f' % (loss.cpu().item()))\n",
    "\n"
   ]
  },
  {
   "cell_type": "code",
   "execution_count": 5,
   "metadata": {},
   "outputs": [
    {
     "name": "stdout",
     "output_type": "stream",
     "text": [
      "mean loss: 0.011042\n",
      "generation loss: 0.011560\n",
      "KL loss: 0.000031\n",
      "reconstruction: \n",
      "tensor([[[-0.5342,  0.5850],\n",
      "         [ 0.2837,  0.8069],\n",
      "         [ 0.0026,  0.7070],\n",
      "         [ 0.3627,  0.8541],\n",
      "         [-0.2625,  0.6435],\n",
      "         [-0.7754,  0.6569]]], device='cuda:0', grad_fn=<ViewBackward>)\n",
      "torch.Size([1, 6, 2])\n",
      "ground truth:\n",
      "tensor([[-0.5430,  0.7476],\n",
      "        [ 0.3043,  0.9152],\n",
      "        [-0.0288,  0.8600],\n",
      "        [ 0.4537,  0.9093],\n",
      "        [-0.2525,  0.8086],\n",
      "        [-0.9673,  0.6481]])\n",
      "condition:\n",
      "tensor([[-0.9673,  0.6481,  0.4537,  0.9093,  0.3007],\n",
      "        [-0.9673,  0.6481,  0.4537,  0.9093,  0.8968],\n",
      "        [-0.9673,  0.6481,  0.4537,  0.9093,  0.6639],\n",
      "        [-0.9673,  0.6481,  0.4537,  0.9093,  1.0000],\n",
      "        [-0.9673,  0.6481,  0.4537,  0.9093,  0.5055],\n",
      "        [-0.9673,  0.6481,  0.4537,  0.9093,  0.0000]], device='cuda:0')\n",
      "prior_z_mu:\n",
      "tensor([[-0.0296, -0.0049],\n",
      "        [-0.0291, -0.0012],\n",
      "        [-0.0296, -0.0018],\n",
      "        [-0.0291, -0.0010],\n",
      "        [-0.0299, -0.0030],\n",
      "        [-0.0284, -0.0056]], device='cuda:0', grad_fn=<AddmmBackward>)\n",
      "prior_z_log_sigma_pow2:\n",
      "tensor([[-0.2410, -0.3382],\n",
      "        [-0.2585, -0.3475],\n",
      "        [-0.2522, -0.3437],\n",
      "        [-0.2612, -0.3493],\n",
      "        [-0.2474, -0.3413],\n",
      "        [-0.2320, -0.3367]], device='cuda:0', grad_fn=<AddmmBackward>)\n",
      "rec_z_mu:\n",
      "tensor([[-0.0303, -0.0040],\n",
      "        [-0.0300, -0.0029],\n",
      "        [-0.0301, -0.0034],\n",
      "        [-0.0300, -0.0027],\n",
      "        [-0.0302, -0.0037],\n",
      "        [-0.0302, -0.0044]], device='cuda:0', grad_fn=<AddmmBackward>)\n",
      "rec_z_log_sigma_pow2:\n",
      "tensor([[-0.2330, -0.3327],\n",
      "        [-0.2481, -0.3436],\n",
      "        [-0.2412, -0.3387],\n",
      "        [-0.2511, -0.3458],\n",
      "        [-0.2373, -0.3358],\n",
      "        [-0.2274, -0.3286]], device='cuda:0', grad_fn=<AddmmBackward>)\n"
     ]
    }
   ],
   "source": [
    "obs_idx = 3\n",
    "path_idx = 150\n",
    "\n",
    "# test to see the error\n",
    "waypoint_dataset, cond_dataset, obs, env_indices \\\n",
    "         = data_loader.load_train_dataset(N=1, NP=1, s=args.s+obs_idx, sp=args.sp+path_idx,\n",
    "                                            data_folder=data_folder, load_dis_ratio=load_dis_ratio)\n",
    "\n",
    "cond_dataset = np.array(cond_dataset)\n",
    "# randomize the dataset before training\n",
    "data=list(zip(waypoint_dataset, cond_dataset, env_indices))\n",
    "random.shuffle(data)\n",
    "waypoint_dataset,cond_dataset,env_indices=list(zip(*data))\n",
    "waypoint_dataset = list(waypoint_dataset)\n",
    "cond_dataset = list(cond_dataset)\n",
    "env_indices = list(env_indices)\n",
    "waypoint_dataset = np.array(waypoint_dataset)\n",
    "cond_dataset = np.array(cond_dataset)\n",
    "env_indices = np.array(env_indices)\n",
    "\n",
    "smpnet.eval()\n",
    "epoch_val_num = 2048\n",
    "waypoint_dataset_i = waypoint_dataset[:epoch_val_num]\n",
    "cond_dataset_i = cond_dataset[:epoch_val_num]\n",
    "env_indices_i = env_indices[:epoch_val_num]\n",
    "bi = waypoint_dataset_i\n",
    "bi = torch.FloatTensor(bi)\n",
    "bi = normalize(bi, args.world_size)\n",
    "bi=to_var(bi)\n",
    "\n",
    "cond_dataset_i = torch.FloatTensor(cond_dataset_i)\n",
    "cond_dataset_i = normalize(cond_dataset_i, args.world_size)  # assume the first Sx2 are start and goal\n",
    "cond_dataset_i = to_var(cond_dataset_i)\n",
    "\n",
    "bobs = obs[env_indices_i].astype(np.float32)\n",
    "bobs = torch.FloatTensor(bobs)\n",
    "bobs = to_var(bobs)\n",
    "loss = smpnet.loss(bi, smpnet.train_forward(bi, cond_dataset_i, bobs), beta=args.beta)\n",
    "loss = torch.mean(loss)\n",
    "print('mean loss: %f' % (loss.cpu().item()))\n",
    "\n",
    "output = smpnet.train_forward(bi, cond_dataset_i, bobs, L=1)\n",
    "gen_loss = smpnet.generation_loss(bi, output)\n",
    "gen_loss = torch.mean(gen_loss)\n",
    "print('generation loss: %f' % (gen_loss.cpu().item()))\n",
    "\n",
    "kl_loss = smpnet.kl_divergence(bi, output)\n",
    "kl_loss = torch.mean(kl_loss)\n",
    "print('KL loss: %f' % (kl_loss.cpu().item()))\n",
    "\n",
    "prior_z_mu, prior_z_log_sigma_pow2, z_mu,z_log_sigma_pow2, z, x_mu = output\n",
    "print('reconstruction: ')\n",
    "print(x_mu)\n",
    "print(x_mu.size())\n",
    "print('ground truth:')\n",
    "print(bi.cpu().data)\n",
    "\n",
    "print('condition:')\n",
    "print(cond_dataset_i[:10])\n",
    "\n",
    "print('prior_z_mu:')\n",
    "print(prior_z_mu)\n",
    "print('prior_z_log_sigma_pow2:')\n",
    "print(prior_z_log_sigma_pow2)\n",
    "\n",
    "print('rec_z_mu:')\n",
    "print(z_mu)\n",
    "print('rec_z_log_sigma_pow2:')\n",
    "print(z_log_sigma_pow2)"
   ]
  },
  {
   "cell_type": "code",
   "execution_count": 6,
   "metadata": {},
   "outputs": [
    {
     "name": "stdout",
     "output_type": "stream",
     "text": [
      "loading...\n"
     ]
    }
   ],
   "source": [
    "# load test data\n",
    "print('loading...')\n",
    "obs_center, obs, paths, path_lengths = \\\n",
    "        data_loader.load_test_dataset(N=args.no_env, NP=args.no_motion_paths, \\\n",
    "                                      s=args.s, sp=args.sp, folder=data_folder)\n",
    "obs_width = 5.\n"
   ]
  },
  {
   "cell_type": "code",
   "execution_count": 21,
   "metadata": {},
   "outputs": [],
   "source": [
    "# visualization\n",
    "import matplotlib.pyplot as plt\n",
    "import matplotlib.patches as patches\n",
    "def cvae_visualization(smpnet, obs_idx, path_idx, dist_val, num_sample=10):\n",
    "    # visualize the planning scene and samples\n",
    "    obs_center_i = obs_center[obs_idx]\n",
    "    obs_i = obs[obs_idx]\n",
    "    path_i = paths[obs_idx][path_idx]\n",
    "    path_length_i = path_lengths[obs_idx][path_idx]\n",
    "    #print(path_length_i)\n",
    "    assert path_length_i > 2\n",
    "    #dist = np.linspace(0., 1., 10)\n",
    "    dist = np.array([dist_val])\n",
    "    #print(dist)\n",
    "    dist = np.repeat(dist, num_sample).reshape(-1,1)\n",
    "\n",
    "    #dist = np.repeat(dist, num_sample//10).reshape(-1,1)\n",
    "    #print(dist.shape)\n",
    "    start_i = np.array([path_i[0]])\n",
    "    goal_i = np.array([path_i[path_length_i-1]])\n",
    "    start_i = np.tile(start_i, [num_sample, 1])\n",
    "    goal_i = np.tile(goal_i, [num_sample, 1])\n",
    "    cond_dataset_i = np.concatenate([start_i, goal_i, dist], axis=1)\n",
    "    cond_dataset_i = torch.FloatTensor(cond_dataset_i)\n",
    "    cond_dataset_i = normalize(cond_dataset_i, args.world_size)  # assume the first Sx2 are start and goal\n",
    "    cond_dataset_i = to_var(cond_dataset_i)\n",
    "    \n",
    "    #print([num_sample]+list(obs_i.shape))\n",
    "    bobs = torch.FloatTensor(obs_i).unsqueeze(0).repeat([num_sample, 1, 1, 1])\n",
    "    bobs = to_var(bobs)\n",
    "    #print(bobs.size())\n",
    "    \n",
    "    \n",
    "    # generating\n",
    "    samples = smpnet.gen_forward(cond_dataset_i, obs=bobs, obs_z=None)\n",
    "    samples = samples.cpu().data\n",
    "    samples = unnormalize(samples, args.world_size).numpy()\n",
    "    \n",
    "    # visualize\n",
    "    # show obstacles\n",
    "    fig = plt.figure(figsize=(10,10))\n",
    "    ax = fig.add_subplot(111)\n",
    "    ax.set_xlim(-22, 22)\n",
    "    ax.set_ylim(-22, 22)\n",
    "    #print(obs_center_i.shape)\n",
    "\n",
    "    for i in range(len(obs_center_i)):\n",
    "        x, y = obs_center_i[i][0], obs_center_i[i][1]\n",
    "        obs_patch_i = patches.Rectangle((x-obs_width/2,y-obs_width/2),\\\n",
    "                                       obs_width,obs_width,\\\n",
    "                                       linewidth=0.0, facecolor='black')\n",
    "        ax.add_patch(obs_patch_i)\n",
    "    \n",
    "    # show start and goal\n",
    "    ax.scatter([path_i[0][0]], [path_i[0][1]], c='green', s=100.0)\n",
    "    ax.scatter([path_i[path_length_i-1][0]], [path_i[path_length_i-1][1]], c='red', s=100.0, marker='*')\n",
    "    \n",
    "    # show path\n",
    "    ax.plot(path_i[:path_length_i,0], path_i[:path_length_i,1], c='pink')\n",
    "    ax.scatter(path_i[1:-1,0], path_i[1:-1,1], c=\"pink\", s=100)\n",
    "    # show samples\n",
    "    ax.scatter(samples[:,0], samples[:,1], c='blue', s=50.)\n",
    "    \n",
    "    return fig"
   ]
  },
  {
   "cell_type": "code",
   "execution_count": 22,
   "metadata": {},
   "outputs": [
    {
     "data": {
      "image/png": "[encoded data removed]",
      "text/plain": [
       "<Figure size 720x720 with 1 Axes>"
      ]
     },
     "metadata": {
      "needs_background": "light"
     },
     "output_type": "display_data"
    }
   ],
   "source": [
    "fig = cvae_visualization(smpnet, 1, 140, dist_val=0.1,num_sample=10)\n",
    "plt.show()\n"
   ]
  },
  {
   "cell_type": "code",
   "execution_count": 23,
   "metadata": {},
   "outputs": [
    {
     "name": "stdout",
     "output_type": "stream",
     "text": [
      "[[ 3  5  9 ...  0  0  0]\n",
      " [14  6  9 ...  0  0  0]\n",
      " [ 2 17  6 ...  0  0  0]\n",
      " ...\n",
      " [14  5  6 ...  0  0  0]\n",
      " [10 17  7 ...  0  0  0]\n",
      " [ 3 21  2 ...  0  0  0]]\n"
     ]
    }
   ],
   "source": [
    "print(path_lengths)"
   ]
  },
  {
   "cell_type": "code",
   "execution_count": 24,
   "metadata": {},
   "outputs": [
    {
     "name": "stdout",
     "output_type": "stream",
     "text": [
      "['smpnet_epoch_1_iter_0.pkl', 'smpnet_epoch_1_iter_2000.pkl', 'smpnet_epoch_1_iter_4000.pkl', 'smpnet_epoch_1_iter_6000.pkl', 'smpnet_epoch_1_iter_8000.pkl', 'smpnet_epoch_1_iter_10000.pkl', 'smpnet_epoch_2_iter_0.pkl', 'smpnet_epoch_2_iter_2000.pkl', 'smpnet_epoch_2_iter_4000.pkl', 'smpnet_epoch_2_iter_6000.pkl', 'smpnet_epoch_2_iter_8000.pkl', 'smpnet_epoch_2_iter_10000.pkl']\n"
     ]
    }
   ],
   "source": [
    "model_fs = [f for f in os.listdir(model_dir) if 'smpnet_epoch_' in f and 'iter' in f]\n",
    "def get_epoch_itr(v_str):\n",
    "    idx = v_str.split('epoch_')[1]\n",
    "    idx = idx.split('_iter_')\n",
    "    epoch = int(idx[0])\n",
    "    itr = int(idx[1][:-4])\n",
    "    return (epoch, itr)\n",
    "model_fs = sorted(model_fs, key=get_epoch_itr)\n",
    "print(model_fs)"
   ]
  },
  {
   "cell_type": "code",
   "execution_count": 32,
   "metadata": {},
   "outputs": [],
   "source": [
    "def gen_figs(obs_idx, path_idx, num_dist, num_sample=100):\n",
    "    for model_f in model_fs:\n",
    "        if model_f == 'smpnet_epoch_10_iter_1000.pkl':\n",
    "            continue\n",
    "        smpnet = SMPNet(e_net, cvae)\n",
    "        smpnet.eval()\n",
    "        model_path=model_f\n",
    "        load_net_state(smpnet, os.path.join(model_dir, model_path))\n",
    "        torch_seed, np_seed, py_seed = load_seed(os.path.join(model_dir, model_path))\n",
    "        # set seed after loading\n",
    "        torch.manual_seed(torch_seed)\n",
    "        np.random.seed(np_seed)\n",
    "        random.seed(py_seed)\n",
    "\n",
    "        if torch.cuda.is_available():\n",
    "            smpnet.cuda()\n",
    "            smpnet.cvae.cuda()\n",
    "            smpnet.e_net.cuda()\n",
    "        dist_vals = np.linspace(0.,1.,num_dist)\n",
    "        for dist_val in dist_vals:\n",
    "            fig = cvae_visualization(smpnet, obs_idx, path_idx, dist_val, num_sample=num_sample);\n",
    "            os.makedirs('plots/%s/param_%d/' % (args.model_type, args.param_name), exist_ok=True)\n",
    "            plt.savefig(\"plots/%s/param_%d/env_%d_path_%d_dist_%f_%s.png\" % (args.model_type, args.param_name, \\\n",
    "                                                                            obs_idx+args.s, path_idx+args.sp, \\\n",
    "                                                                            dist_val, model_f[:-4]));\n",
    "            plt.close(fig)"
   ]
  },
  {
   "cell_type": "code",
   "execution_count": 33,
   "metadata": {},
   "outputs": [
    {
     "name": "stdout",
     "output_type": "stream",
     "text": [
      "Requirement already satisfied: imageio in /ilab/users/ym420/miniconda3/envs/cse535/lib/python3.8/site-packages (2.9.0)\r\n",
      "Requirement already satisfied: pillow in /ilab/users/ym420/miniconda3/envs/cse535/lib/python3.8/site-packages (from imageio) (8.0.0)\r\n",
      "Requirement already satisfied: numpy in /ilab/users/ym420/miniconda3/envs/cse535/lib/python3.8/site-packages (from imageio) (1.19.1)\r\n"
     ]
    }
   ],
   "source": [
    "!pip install imageio"
   ]
  },
  {
   "cell_type": "code",
   "execution_count": null,
   "metadata": {},
   "outputs": [],
   "source": []
  },
  {
   "cell_type": "code",
   "execution_count": 34,
   "metadata": {},
   "outputs": [],
   "source": [
    "import imageio\n",
    "def make_video(obs_idx, path_idx, dist_val):\n",
    "    def tryint(s):\n",
    "        try:\n",
    "            return int(s)\n",
    "        except ValueError:\n",
    "            return s\n",
    "    def str2int(v_str):\n",
    "        idx = v_str.split('epoch_')[1]\n",
    "        idx = int(idx[:-4])\n",
    "        return idx\n",
    "    def get_epoch_itr(v_str):\n",
    "        idx = v_str.split('epoch_')[1]\n",
    "        idx = idx.split('_iter_')\n",
    "        epoch = int(idx[0])\n",
    "        itr = int(idx[1][:-4])\n",
    "        return (epoch, itr)\n",
    "\n",
    "    def sort_humanly(v_list):\n",
    "        return sorted(v_list, key=get_epoch_itr)\n",
    "    image_folder = 'plots/%s/param_%d/' % (args.model_type, args.param_name)\n",
    "    \n",
    "    os.makedirs('video/%s/param_%d' % (args.model_type, args.param_name), exist_ok=True)\n",
    "    video_name = 'video/{}/param_{}/env_{}_path_{}_dist_{}.gif'.format(args.model_type, args.param_name, obs_idx, path_idx, dist_val)\n",
    "    images = [img for img in os.listdir(image_folder) \\\n",
    "              if 'env_%d_path_%d' % (obs_idx+args.s, path_idx+args.sp) in img and 'iter' in img \\\n",
    "                 and 'dist_%f' % (dist_val) in img]\n",
    "    images = sort_humanly(images)\n",
    "    imgs = []\n",
    "    for filename in images:\n",
    "#         print('./'+image_folder+'/'+filename)\n",
    "        imgs.append(imageio.imread('./'+image_folder+'/'+filename))\n",
    "    imageio.mimsave(video_name, imgs)"
   ]
  },
  {
   "cell_type": "code",
   "execution_count": null,
   "metadata": {},
   "outputs": [
    {
     "name": "stdout",
     "output_type": "stream",
     "text": [
      "count: 1\n",
      "count: 2\n",
      "count: 1\n",
      "count: 2\n",
      "count: 1\n",
      "count: 2\n",
      "count: 1\n",
      "count: 2\n",
      "count: 1\n"
     ]
    }
   ],
   "source": [
    "# save figure for different model\n",
    "for obs_idx in range(10):\n",
    "    path_idxs = []\n",
    "    count = 0\n",
    "    while True:\n",
    "        path_idx = np.random.choice(200)\n",
    "        if path_lengths[obs_idx][path_idx] < 5:\n",
    "            continue\n",
    "        if path_idx in path_idxs:\n",
    "            continue\n",
    "        count += 1\n",
    "        path_idxs.append(path_idx)\n",
    "        num_dist = 11\n",
    "        gen_figs(obs_idx, path_idx, num_dist=num_dist, num_sample=20)\n",
    "        dist_vals = np.linspace(0.,1.,num_dist)\n",
    "        for dist_val in dist_vals:\n",
    "            make_video(obs_idx, path_idx, dist_val)\n",
    "        print('count: %d' % (count))\n",
    "        if count == 2:\n",
    "            break"
   ]
  },
  {
   "cell_type": "code",
   "execution_count": null,
   "metadata": {},
   "outputs": [],
   "source": [
    "#make_video(obs_idx+args.s, path_idx+args.sp)"
   ]
  },
  {
   "cell_type": "code",
   "execution_count": null,
   "metadata": {},
   "outputs": [],
   "source": []
  }
 ],
 "metadata": {
  "kernelspec": {
   "display_name": "Python [conda env:cse535] *",
   "language": "python",
   "name": "conda-env-cse535-py"
  },
  "language_info": {
   "codemirror_mode": {
    "name": "ipython",
    "version": 3
   },
   "file_extension": ".py",
   "mimetype": "text/x-python",
   "name": "python",
   "nbconvert_exporter": "python",
   "pygments_lexer": "ipython3",
   "version": "3.8.5"
  }
 },
 "nbformat": 4,
 "nbformat_minor": 4
}
