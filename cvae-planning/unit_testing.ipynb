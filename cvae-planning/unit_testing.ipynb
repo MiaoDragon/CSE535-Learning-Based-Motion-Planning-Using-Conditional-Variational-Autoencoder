{
 "cells": [
  {
   "cell_type": "code",
   "execution_count": 18,
   "metadata": {},
   "outputs": [],
   "source": [
    "# unit test data_loader\n",
    "\n",
    "import tools.data_loader_complex_2d as data_loader\n",
    "data_folder = '../../../../data/motion_planning_datasets/forest/'\n",
    "waypoint_dataset, cond_dataset, obs_voxel, env_indices= data_loader.load_train_dataset(2, 2, 0, 0, data_folder)\n"
   ]
  },
  {
   "cell_type": "code",
   "execution_count": 19,
   "metadata": {},
   "outputs": [
    {
     "data": {
      "text/plain": [
       "[array([-3.27887812, -7.10967636]),\n",
       " array([-5.1272134 ,  0.50790092]),\n",
       " array([-5.61537702,  2.53283103]),\n",
       " array([-5.72088124,  5.7563911 ]),\n",
       " array([-4.48008788,  9.4298696 ]),\n",
       " array([-0.49853481,  3.30611621]),\n",
       " array([ 4.80101945, -1.09028546]),\n",
       " array([ 9.02075995, -6.38046622]),\n",
       " array([-3.27887812, -7.10967636]),\n",
       " array([-5.47319821, -1.45645427]),\n",
       " array([-7.36752202,  2.73080141]),\n",
       " array([-7.40983507,  3.87526735]),\n",
       " array([-6.88687734,  5.39351894]),\n",
       " array([-4.53950663,  9.45113274]),\n",
       " array([ 1.8161885 , -6.28792406]),\n",
       " array([ 1.70955121, -5.40438151]),\n",
       " array([ 0.58669438, -3.41604546]),\n",
       " array([-1.59843296, -1.81604242]),\n",
       " array([-4.55473547,  0.31745296]),\n",
       " array([-7.12695897,  2.17395462]),\n",
       " array([-7.80669916,  4.38979057]),\n",
       " array([-8.66014176,  9.16239879])]"
      ]
     },
     "execution_count": 19,
     "metadata": {},
     "output_type": "execute_result"
    }
   ],
   "source": [
    "waypoint_dataset"
   ]
  },
  {
   "cell_type": "code",
   "execution_count": 20,
   "metadata": {},
   "outputs": [
    {
     "data": {
      "text/plain": [
       "[array([-3.27887812, -7.10967636, -4.48008788,  9.4298696 ]),\n",
       " array([-3.27887812, -7.10967636, -4.48008788,  9.4298696 ]),\n",
       " array([-3.27887812, -7.10967636, -4.48008788,  9.4298696 ]),\n",
       " array([-3.27887812, -7.10967636, -4.48008788,  9.4298696 ]),\n",
       " array([-3.27887812, -7.10967636, -4.48008788,  9.4298696 ]),\n",
       " array([-0.49853481,  3.30611621,  9.02075995, -6.38046622]),\n",
       " array([-0.49853481,  3.30611621,  9.02075995, -6.38046622]),\n",
       " array([-0.49853481,  3.30611621,  9.02075995, -6.38046622]),\n",
       " array([-3.27887812, -7.10967636, -4.53950663,  9.45113274]),\n",
       " array([-3.27887812, -7.10967636, -4.53950663,  9.45113274]),\n",
       " array([-3.27887812, -7.10967636, -4.53950663,  9.45113274]),\n",
       " array([-3.27887812, -7.10967636, -4.53950663,  9.45113274]),\n",
       " array([-3.27887812, -7.10967636, -4.53950663,  9.45113274]),\n",
       " array([-3.27887812, -7.10967636, -4.53950663,  9.45113274]),\n",
       " array([ 1.8161885 , -6.28792406, -8.66014176,  9.16239879]),\n",
       " array([ 1.8161885 , -6.28792406, -8.66014176,  9.16239879]),\n",
       " array([ 1.8161885 , -6.28792406, -8.66014176,  9.16239879]),\n",
       " array([ 1.8161885 , -6.28792406, -8.66014176,  9.16239879]),\n",
       " array([ 1.8161885 , -6.28792406, -8.66014176,  9.16239879]),\n",
       " array([ 1.8161885 , -6.28792406, -8.66014176,  9.16239879]),\n",
       " array([ 1.8161885 , -6.28792406, -8.66014176,  9.16239879]),\n",
       " array([ 1.8161885 , -6.28792406, -8.66014176,  9.16239879])]"
      ]
     },
     "execution_count": 20,
     "metadata": {},
     "output_type": "execute_result"
    }
   ],
   "source": [
    "cond_dataset"
   ]
  },
  {
   "cell_type": "code",
   "execution_count": 21,
   "metadata": {},
   "outputs": [
    {
     "data": {
      "text/plain": [
       "[array([[[  0.,   0.,   0., ...,   0.,   0.,   0.],\n",
       "         [  0.,   0.,   0., ...,   0.,   0.,   0.],\n",
       "         [  0.,   0.,   0., ...,   0.,   0.,   0.],\n",
       "         ...,\n",
       "         [  0.,   0.,   0., ...,   0.,   0.,   0.],\n",
       "         [  0.,   0.,   0., ...,   0.,   0.,   0.],\n",
       "         [  0.,   0.,   0., ...,   0.,   0.,   0.]],\n",
       " \n",
       "        [[  0.,   0.,   0., ...,   0.,   0.,   0.],\n",
       "         [  1.,   1.,   1., ...,   1.,   1.,   1.],\n",
       "         [  2.,   2.,   2., ...,   2.,   2.,   2.],\n",
       "         ...,\n",
       "         [198., 198., 198., ..., 198., 198., 198.],\n",
       "         [199., 199., 199., ..., 199., 199., 199.],\n",
       "         [200., 200., 200., ..., 200., 200., 200.]],\n",
       " \n",
       "        [[  0.,   1.,   2., ..., 198., 199., 200.],\n",
       "         [  0.,   1.,   2., ..., 198., 199., 200.],\n",
       "         [  0.,   1.,   2., ..., 198., 199., 200.],\n",
       "         ...,\n",
       "         [  0.,   1.,   2., ..., 198., 199., 200.],\n",
       "         [  0.,   1.,   2., ..., 198., 199., 200.],\n",
       "         [  0.,   1.,   2., ..., 198., 199., 200.]]]),\n",
       " array([[[  0.,   0.,   0., ...,   0.,   0.,   0.],\n",
       "         [  0.,   0.,   0., ...,   0.,   0.,   0.],\n",
       "         [  0.,   0.,   0., ...,   0.,   0.,   0.],\n",
       "         ...,\n",
       "         [  0.,   0.,   0., ...,   0.,   0.,   0.],\n",
       "         [  0.,   0.,   0., ...,   0.,   0.,   0.],\n",
       "         [  0.,   0.,   0., ...,   0.,   0.,   0.]],\n",
       " \n",
       "        [[  0.,   0.,   0., ...,   0.,   0.,   0.],\n",
       "         [  1.,   1.,   1., ...,   1.,   1.,   1.],\n",
       "         [  2.,   2.,   2., ...,   2.,   2.,   2.],\n",
       "         ...,\n",
       "         [198., 198., 198., ..., 198., 198., 198.],\n",
       "         [199., 199., 199., ..., 199., 199., 199.],\n",
       "         [200., 200., 200., ..., 200., 200., 200.]],\n",
       " \n",
       "        [[  0.,   1.,   2., ..., 198., 199., 200.],\n",
       "         [  0.,   1.,   2., ..., 198., 199., 200.],\n",
       "         [  0.,   1.,   2., ..., 198., 199., 200.],\n",
       "         ...,\n",
       "         [  0.,   1.,   2., ..., 198., 199., 200.],\n",
       "         [  0.,   1.,   2., ..., 198., 199., 200.],\n",
       "         [  0.,   1.,   2., ..., 198., 199., 200.]]])]"
      ]
     },
     "execution_count": 21,
     "metadata": {},
     "output_type": "execute_result"
    }
   ],
   "source": [
    "obs_voxel"
   ]
  },
  {
   "cell_type": "code",
   "execution_count": 9,
   "metadata": {},
   "outputs": [
    {
     "name": "stdout",
     "output_type": "stream",
     "text": [
      "[[0. 0. 0. ... 0. 0. 0.]\n",
      " [0. 0. 0. ... 0. 0. 0.]\n",
      " [0. 0. 0. ... 0. 0. 0.]\n",
      " ...\n",
      " [0. 0. 0. ... 0. 0. 0.]\n",
      " [0. 0. 0. ... 0. 0. 0.]\n",
      " [0. 0. 0. ... 0. 0. 0.]]\n",
      "[[  0.   0.   0. ...   0.   0.   0.]\n",
      " [  1.   1.   1. ...   1.   1.   1.]\n",
      " [  2.   2.   2. ...   2.   2.   2.]\n",
      " ...\n",
      " [198. 198. 198. ... 198. 198. 198.]\n",
      " [199. 199. 199. ... 199. 199. 199.]\n",
      " [200. 200. 200. ... 200. 200. 200.]]\n",
      "[[  0.   1.   2. ... 198. 199. 200.]\n",
      " [  0.   1.   2. ... 198. 199. 200.]\n",
      " [  0.   1.   2. ... 198. 199. 200.]\n",
      " ...\n",
      " [  0.   1.   2. ... 198. 199. 200.]\n",
      " [  0.   1.   2. ... 198. 199. 200.]\n",
      " [  0.   1.   2. ... 198. 199. 200.]]\n"
     ]
    }
   ],
   "source": [
    "obs_voxel[0].shape\n",
    "print(obs_voxel[0][0])\n",
    "print(obs_voxel[0][1])\n",
    "print(obs_voxel[0][2])"
   ]
  },
  {
   "cell_type": "code",
   "execution_count": 10,
   "metadata": {},
   "outputs": [
    {
     "name": "stdout",
     "output_type": "stream",
     "text": [
      "6890\n"
     ]
    }
   ],
   "source": [
    "print((obs_voxel[0][0] == 1).sum())"
   ]
  },
  {
   "cell_type": "code",
   "execution_count": 17,
   "metadata": {},
   "outputs": [
    {
     "data": {
      "text/plain": [
       "[<matplotlib.lines.Line2D at 0x7fdfbf743070>]"
      ]
     },
     "execution_count": 17,
     "metadata": {},
     "output_type": "execute_result"
    },
    {
     "data": {
      "image/png": "[encoded data removed]",
      "text/plain": [
       "<Figure size 432x288 with 1 Axes>"
      ]
     },
     "metadata": {
      "needs_background": "light"
     },
     "output_type": "display_data"
    }
   ],
   "source": [
    "import matplotlib.pyplot as plt\n",
    "import numpy as np\n",
    "fig = plt.figure()\n",
    "ax = fig.add_subplot(1,1,1)\n",
    "ax.set_xlim(-10, 10)\n",
    "ax.set_ylim(-10, 10)\n",
    "\n",
    "obs = obs_voxel[0][0]\n",
    "obs_img = np.zeros(list(obs_voxel[0][0].shape)+[3])\n",
    "obs_img[:,:,0] = obs.T\n",
    "obs_img[:,:,1] = obs.T\n",
    "obs_img[:,:,2] = obs.T\n",
    "origin = 'lower'\n",
    "extent = (-10, 10., -10., 10.)\n",
    "ax.imshow(obs_img, origin=origin, extent=extent)\n",
    "\n",
    "# plot the path\n",
    "path = np.array(waypoint_dataset)\n",
    "ax.plot(path[:,0], path[:,1], c='red')"
   ]
  },
  {
   "cell_type": "code",
   "execution_count": null,
   "metadata": {},
   "outputs": [],
   "source": []
  }
 ],
 "metadata": {
  "kernelspec": {
   "display_name": "Python [conda env:cse535] *",
   "language": "python",
   "name": "conda-env-cse535-py"
  },
  "language_info": {
   "codemirror_mode": {
    "name": "ipython",
    "version": 3
   },
   "file_extension": ".py",
   "mimetype": "text/x-python",
   "name": "python",
   "nbconvert_exporter": "python",
   "pygments_lexer": "ipython3",
   "version": "3.8.5"
  }
 },
 "nbformat": 4,
 "nbformat_minor": 4
}
