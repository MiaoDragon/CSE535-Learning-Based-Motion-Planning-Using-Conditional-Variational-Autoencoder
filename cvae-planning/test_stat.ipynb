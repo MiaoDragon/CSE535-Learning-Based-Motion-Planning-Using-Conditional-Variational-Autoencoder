{
 "cells": [
  {
   "cell_type": "code",
   "execution_count": 11,
   "metadata": {},
   "outputs": [
    {
     "name": "stdout",
     "output_type": "stream",
     "text": [
      "Requirement already satisfied: pandas in /home/yinglong/miniconda3/envs/cse535/lib/python3.8/site-packages (1.1.5)\r\n",
      "Requirement already satisfied: numpy>=1.15.4 in /home/yinglong/miniconda3/envs/cse535/lib/python3.8/site-packages (from pandas) (1.19.2)\r\n",
      "Requirement already satisfied: pytz>=2017.2 in /home/yinglong/miniconda3/envs/cse535/lib/python3.8/site-packages (from pandas) (2020.4)\r\n",
      "Requirement already satisfied: python-dateutil>=2.7.3 in /home/yinglong/miniconda3/envs/cse535/lib/python3.8/site-packages (from pandas) (2.8.1)\r\n",
      "Requirement already satisfied: six>=1.5 in /home/yinglong/miniconda3/envs/cse535/lib/python3.8/site-packages (from python-dateutil>=2.7.3->pandas) (1.15.0)\r\n"
     ]
    }
   ],
   "source": [
    "!pip install pandas"
   ]
  },
  {
   "cell_type": "code",
   "execution_count": 1,
   "metadata": {},
   "outputs": [
    {
     "name": "stdout",
     "output_type": "stream",
     "text": [
      "Collecting seaborn\n",
      "  Downloading seaborn-0.11.0-py3-none-any.whl (283 kB)\n",
      "\u001b[K     |████████████████████████████████| 283 kB 4.9 MB/s eta 0:00:01\n",
      "\u001b[?25hRequirement already satisfied: matplotlib>=2.2 in /home/yinglong/miniconda3/envs/cse535/lib/python3.8/site-packages (from seaborn) (3.3.2)\n",
      "Collecting pandas>=0.23\n",
      "  Downloading pandas-1.1.5-cp38-cp38-manylinux1_x86_64.whl (9.3 MB)\n",
      "\u001b[K     |████████████████████████████████| 9.3 MB 7.8 MB/s eta 0:00:01\n",
      "\u001b[?25hRequirement already satisfied: numpy>=1.15 in /home/yinglong/miniconda3/envs/cse535/lib/python3.8/site-packages (from seaborn) (1.19.2)\n",
      "Requirement already satisfied: scipy>=1.0 in /home/yinglong/miniconda3/envs/cse535/lib/python3.8/site-packages (from seaborn) (1.5.3)\n",
      "Requirement already satisfied: pillow>=6.2.0 in /home/yinglong/miniconda3/envs/cse535/lib/python3.8/site-packages (from matplotlib>=2.2->seaborn) (8.0.1)\n",
      "Requirement already satisfied: pyparsing!=2.0.4,!=2.1.2,!=2.1.6,>=2.0.3 in /home/yinglong/miniconda3/envs/cse535/lib/python3.8/site-packages (from matplotlib>=2.2->seaborn) (2.4.7)\n",
      "Requirement already satisfied: kiwisolver>=1.0.1 in /home/yinglong/miniconda3/envs/cse535/lib/python3.8/site-packages (from matplotlib>=2.2->seaborn) (1.3.1)\n",
      "Requirement already satisfied: cycler>=0.10 in /home/yinglong/miniconda3/envs/cse535/lib/python3.8/site-packages (from matplotlib>=2.2->seaborn) (0.10.0)\n",
      "Requirement already satisfied: certifi>=2020.06.20 in /home/yinglong/miniconda3/envs/cse535/lib/python3.8/site-packages (from matplotlib>=2.2->seaborn) (2020.11.8)\n",
      "Requirement already satisfied: python-dateutil>=2.1 in /home/yinglong/miniconda3/envs/cse535/lib/python3.8/site-packages (from matplotlib>=2.2->seaborn) (2.8.1)\n",
      "Collecting pytz>=2017.2\n",
      "  Downloading pytz-2020.4-py2.py3-none-any.whl (509 kB)\n",
      "\u001b[K     |████████████████████████████████| 509 kB 11.9 MB/s eta 0:00:01\n",
      "\u001b[?25hRequirement already satisfied: six in /home/yinglong/miniconda3/envs/cse535/lib/python3.8/site-packages (from cycler>=0.10->matplotlib>=2.2->seaborn) (1.15.0)\n",
      "Installing collected packages: pytz, pandas, seaborn\n",
      "Successfully installed pandas-1.1.5 pytz-2020.4 seaborn-0.11.0\n"
     ]
    }
   ],
   "source": [
    "!pip install seaborn"
   ]
  },
  {
   "cell_type": "code",
   "execution_count": 6,
   "metadata": {},
   "outputs": [],
   "source": [
    "import json\n",
    "import numpy as np\n",
    "import seaborn as sn\n",
    "\n",
    "root_path = '/home/yinglong/Documents/research/learning_motion_planning/result/SMPNet/test/'\n",
    "forest_path = root_path + 'forest/rrtstar/'\n",
    "f = open(forest_path+'smpnet/param_1/N_2_NP_2_s_0_sp_800.json', 'r')\n",
    "a = json.load(f)\n",
    "\n",
    "ff = open(forest_path+'uniform_sampler/param_1/N_2_NP_2_s_0_sp_800.json', 'r')\n",
    "b = json.load(ff)\n",
    "\n",
    "aa = a['init_sol_iter']\n",
    "bb = b['init_sol_iter']"
   ]
  },
  {
   "cell_type": "code",
   "execution_count": 7,
   "metadata": {},
   "outputs": [
    {
     "data": {
      "text/plain": [
       "dict_keys(['init_sol_time', 'final_sol_time', 'init_sol_iter', 'final_sol_iter', 'init_sol_cost', 'final_sol_cost', 'sol_state', 'success'])"
      ]
     },
     "execution_count": 7,
     "metadata": {},
     "output_type": "execute_result"
    }
   ],
   "source": [
    "a.keys()"
   ]
  },
  {
   "cell_type": "code",
   "execution_count": 8,
   "metadata": {},
   "outputs": [],
   "source": [
    "init_sol_iter_a = []\n",
    "init_sol_iter_b = []\n",
    "for i in range(len(aa)):\n",
    "    for j in range(len(aa[i])):\n",
    "        if aa[i][j] is not None and aa[i][j] != -1:\n",
    "            init_sol_iter_a.append(aa[i][j])\n",
    "            init_sol_iter_b.append(bb[i][j])\n",
    "init_sol_iter_a = np.array(init_sol_iter_a)\n",
    "init_sol_iter_b = np.array(init_sol_iter_b)"
   ]
  },
  {
   "cell_type": "code",
   "execution_count": 9,
   "metadata": {},
   "outputs": [],
   "source": [
    "import pandas as pd\n",
    "\n",
    "df = pd.DataFrame({'init_sol_iter_a': init_sol_iter_a, 'init_sol_iter_b': init_sol_iter_b})"
   ]
  },
  {
   "cell_type": "code",
   "execution_count": 10,
   "metadata": {},
   "outputs": [
    {
     "data": {
      "text/plain": [
       "<AxesSubplot:>"
      ]
     },
     "execution_count": 10,
     "metadata": {},
     "output_type": "execute_result"
    },
    {
     "data": {
      "image/png": "[encoded data removed]",
      "text/plain": [
       "<Figure size 432x288 with 1 Axes>"
      ]
     },
     "metadata": {
      "needs_background": "light"
     },
     "output_type": "display_data"
    }
   ],
   "source": [
    "sn.boxplot(data=df)"
   ]
  },
  {
   "cell_type": "code",
   "execution_count": 11,
   "metadata": {},
   "outputs": [],
   "source": [
    "aaa = a['init_sol_cost']\n",
    "bbb = b['init_sol_cost']\n",
    "init_sol_cost_a = []\n",
    "init_sol_cost_b = []\n",
    "for i in range(len(aa)):\n",
    "    for j in range(len(aa[i])):\n",
    "        if aa[i][j] is not None and aa[i][j] != -1:\n",
    "            init_sol_cost_a.append(aaa[i][j])\n",
    "            init_sol_cost_b.append(bbb[i][j])\n",
    "init_sol_cost_a = np.array(init_sol_cost_a)\n",
    "init_sol_cost_b = np.array(init_sol_cost_b)"
   ]
  },
  {
   "cell_type": "code",
   "execution_count": 12,
   "metadata": {},
   "outputs": [],
   "source": [
    "df2 = pd.DataFrame({'init_sol_cost_a': init_sol_cost_a, 'init_sol_cost_b': init_sol_cost_b})"
   ]
  },
  {
   "cell_type": "code",
   "execution_count": 13,
   "metadata": {},
   "outputs": [
    {
     "data": {
      "text/plain": [
       "<AxesSubplot:>"
      ]
     },
     "execution_count": 13,
     "metadata": {},
     "output_type": "execute_result"
    },
    {
     "data": {
      "image/png": "[encoded data removed]",
      "text/plain": [
       "<Figure size 432x288 with 1 Axes>"
      ]
     },
     "metadata": {
      "needs_background": "light"
     },
     "output_type": "display_data"
    }
   ],
   "source": [
    "sn.boxplot(data=df2)"
   ]
  },
  {
   "cell_type": "code",
   "execution_count": 14,
   "metadata": {},
   "outputs": [],
   "source": [
    "aaaa = a['init_sol_time']\n",
    "bbbb = b['init_sol_time']\n",
    "init_sol_time_a = []\n",
    "init_sol_time_b = []\n",
    "for i in range(len(aa)):\n",
    "    for j in range(len(aa[i])):\n",
    "        if aa[i][j] is not None and aa[i][j] != -1:\n",
    "            init_sol_time_a.append(aaaa[i][j])\n",
    "            init_sol_time_b.append(bbbb[i][j])\n",
    "init_sol_time_a = np.array(init_sol_time_a)\n",
    "init_sol_time_b = np.array(init_sol_time_b)"
   ]
  },
  {
   "cell_type": "code",
   "execution_count": 15,
   "metadata": {},
   "outputs": [
    {
     "data": {
      "text/plain": [
       "<AxesSubplot:>"
      ]
     },
     "execution_count": 15,
     "metadata": {},
     "output_type": "execute_result"
    },
    {
     "data": {
      "image/png": "[encoded data removed]",
      "text/plain": [
       "<Figure size 432x288 with 1 Axes>"
      ]
     },
     "metadata": {
      "needs_background": "light"
     },
     "output_type": "display_data"
    }
   ],
   "source": [
    "df3 = pd.DataFrame({'init_sol_time_a': init_sol_time_a, 'init_sol_time_b': init_sol_time_b})\n",
    "sn.boxplot(data=df3)"
   ]
  },
  {
   "cell_type": "code",
   "execution_count": null,
   "metadata": {},
   "outputs": [],
   "source": []
  },
  {
   "cell_type": "code",
   "execution_count": 17,
   "metadata": {},
   "outputs": [],
   "source": [
    "import json\n",
    "import numpy as np\n",
    "import seaborn as sn\n",
    "\n",
    "root_path = '/home/yinglong/Documents/research/learning_motion_planning/result/SMPNet/test/'\n",
    "s2d_path = root_path + 's2d/rrtstar/'\n",
    "f = open(s2d_path+'smpnet/param_3/N_110_NP_50_s_0_sp_4000.json', 'r')\n",
    "a = json.load(f)\n",
    "\n",
    "ff = open(s2d_path+'uniform_sampler/param_3/N_110_NP_50_s_0_sp_4000.json', 'r')\n",
    "b = json.load(ff)\n",
    "\n",
    "aa = a['init_sol_iter']\n",
    "bb = b['init_sol_iter']"
   ]
  },
  {
   "cell_type": "code",
   "execution_count": 16,
   "metadata": {},
   "outputs": [
    {
     "data": {
      "text/plain": [
       "dict_keys(['init_sol_time', 'final_sol_time', 'init_sol_iter', 'final_sol_iter', 'init_sol_cost', 'final_sol_cost', 'sol_state', 'success'])"
      ]
     },
     "execution_count": 16,
     "metadata": {},
     "output_type": "execute_result"
    }
   ],
   "source": [
    "a.keys()"
   ]
  },
  {
   "cell_type": "code",
   "execution_count": 9,
   "metadata": {},
   "outputs": [],
   "source": [
    "init_sol_iter_a = []\n",
    "init_sol_iter_b = []\n",
    "for i in range(len(aa)):\n",
    "    for j in range(len(aa[i])):\n",
    "        if aa[i][j] is not None and aa[i][j] != -1:\n",
    "            init_sol_iter_a.append(aa[i][j])\n",
    "            init_sol_iter_b.append(bb[i][j])\n",
    "init_sol_iter_a = np.array(init_sol_iter_a)\n",
    "init_sol_iter_b = np.array(init_sol_iter_b)"
   ]
  },
  {
   "cell_type": "code",
   "execution_count": 13,
   "metadata": {},
   "outputs": [],
   "source": [
    "import pandas as pd\n",
    "\n",
    "df = pd.DataFrame({'init_sol_iter_a': init_sol_iter_a, 'init_sol_iter_b': init_sol_iter_b})"
   ]
  },
  {
   "cell_type": "code",
   "execution_count": 15,
   "metadata": {},
   "outputs": [
    {
     "data": {
      "text/plain": [
       "<AxesSubplot:>"
      ]
     },
     "execution_count": 15,
     "metadata": {},
     "output_type": "execute_result"
    },
    {
     "data": {
      "image/png": "[encoded data removed]",
      "text/plain": [
       "<Figure size 432x288 with 1 Axes>"
      ]
     },
     "metadata": {
      "needs_background": "light"
     },
     "output_type": "display_data"
    }
   ],
   "source": [
    "sn.boxplot(data=df)"
   ]
  },
  {
   "cell_type": "code",
   "execution_count": 17,
   "metadata": {},
   "outputs": [],
   "source": [
    "aaa = a['init_sol_cost']\n",
    "bbb = b['init_sol_cost']\n",
    "init_sol_cost_a = []\n",
    "init_sol_cost_b = []\n",
    "for i in range(len(aa)):\n",
    "    for j in range(len(aa[i])):\n",
    "        if aa[i][j] is not None and aa[i][j] != -1:\n",
    "            init_sol_cost_a.append(aaa[i][j])\n",
    "            init_sol_cost_b.append(bbb[i][j])\n",
    "init_sol_cost_a = np.array(init_sol_cost_a)\n",
    "init_sol_cost_b = np.array(init_sol_cost_b)"
   ]
  },
  {
   "cell_type": "code",
   "execution_count": 18,
   "metadata": {},
   "outputs": [],
   "source": [
    "df2 = pd.DataFrame({'init_sol_cost_a': init_sol_cost_a, 'init_sol_cost_b': init_sol_cost_b})"
   ]
  },
  {
   "cell_type": "code",
   "execution_count": 19,
   "metadata": {},
   "outputs": [
    {
     "data": {
      "text/plain": [
       "<AxesSubplot:>"
      ]
     },
     "execution_count": 19,
     "metadata": {},
     "output_type": "execute_result"
    },
    {
     "data": {
      "image/png": "[encoded data removed]",
      "text/plain": [
       "<Figure size 432x288 with 1 Axes>"
      ]
     },
     "metadata": {
      "needs_background": "light"
     },
     "output_type": "display_data"
    }
   ],
   "source": [
    "sn.boxplot(data=df2)"
   ]
  },
  {
   "cell_type": "code",
   "execution_count": 20,
   "metadata": {},
   "outputs": [],
   "source": [
    "aaaa = a['init_sol_time']\n",
    "bbbb = b['init_sol_time']\n",
    "init_sol_time_a = []\n",
    "init_sol_time_b = []\n",
    "for i in range(len(aa)):\n",
    "    for j in range(len(aa[i])):\n",
    "        if aa[i][j] is not None and aa[i][j] != -1:\n",
    "            init_sol_time_a.append(aaaa[i][j])\n",
    "            init_sol_time_b.append(bbbb[i][j])\n",
    "init_sol_time_a = np.array(init_sol_time_a)\n",
    "init_sol_time_b = np.array(init_sol_time_b)"
   ]
  },
  {
   "cell_type": "code",
   "execution_count": 21,
   "metadata": {},
   "outputs": [
    {
     "data": {
      "text/plain": [
       "<AxesSubplot:>"
      ]
     },
     "execution_count": 21,
     "metadata": {},
     "output_type": "execute_result"
    },
    {
     "data": {
      "image/png": "[encoded data removed]",
      "text/plain": [
       "<Figure size 432x288 with 1 Axes>"
      ]
     },
     "metadata": {
      "needs_background": "light"
     },
     "output_type": "display_data"
    }
   ],
   "source": [
    "df3 = pd.DataFrame({'init_sol_time_a': init_sol_time_a, 'init_sol_time_b': init_sol_time_b})\n",
    "sn.boxplot(data=df3)"
   ]
  }
 ],
 "metadata": {
  "kernelspec": {
   "display_name": "Python [conda env:cse535] *",
   "language": "python",
   "name": "conda-env-cse535-py"
  },
  "language_info": {
   "codemirror_mode": {
    "name": "ipython",
    "version": 3
   },
   "file_extension": ".py",
   "mimetype": "text/x-python",
   "name": "python",
   "nbconvert_exporter": "python",
   "pygments_lexer": "ipython3",
   "version": "3.8.5"
  }
 },
 "nbformat": 4,
 "nbformat_minor": 4
}
