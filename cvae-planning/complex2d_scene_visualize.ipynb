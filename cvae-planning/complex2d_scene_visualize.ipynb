{
 "cells": [
  {
   "cell_type": "code",
   "execution_count": 1,
   "metadata": {},
   "outputs": [],
   "source": [
    "#### visualize the motion_planning_dataset\n",
    "data_folder = '/home/yinglong/Documents/research/learning_motion_planning/data/motion_planning_datasets/'\n",
    "\n",
    "\n",
    "import numpy as np\n",
    "import imageio\n",
    "\n",
    "img = imageio.imread(data_folder+'/forest/train/0.png')"
   ]
  },
  {
   "cell_type": "code",
   "execution_count": 2,
   "metadata": {},
   "outputs": [
    {
     "data": {
      "text/plain": [
       "<matplotlib.image.AxesImage at 0x7fc9c5c7c460>"
      ]
     },
     "execution_count": 2,
     "metadata": {},
     "output_type": "execute_result"
    },
    {
     "data": {
      "image/png": "[encoded data removed]",
      "text/plain": [
       "<Figure size 432x288 with 1 Axes>"
      ]
     },
     "metadata": {
      "needs_background": "light"
     },
     "output_type": "display_data"
    }
   ],
   "source": [
    "import matplotlib.pyplot as plt\n",
    "plt.imshow(img)"
   ]
  },
  {
   "cell_type": "code",
   "execution_count": 3,
   "metadata": {},
   "outputs": [
    {
     "name": "stdout",
     "output_type": "stream",
     "text": [
      "(201, 201)\n",
      "[[255 255 255 ... 255 255 255]\n",
      " [255 255 255 ... 255 255 255]\n",
      " [255 255 255 ... 255 255 255]\n",
      " ...\n",
      " [255 255 255 ... 255 255 255]\n",
      " [255 255 255 ... 255 255 255]\n",
      " [255 255 255 ... 255 255 255]]\n"
     ]
    }
   ],
   "source": [
    "print(img.shape)\n",
    "print(img)\n",
    "# 255: freespace, 0: obstacle\n",
    "# convert into a continuous-space planning problem: each pixel has certain range\n",
    "# and we only care about obstacle as pixels"
   ]
  },
  {
   "cell_type": "code",
   "execution_count": 4,
   "metadata": {},
   "outputs": [],
   "source": [
    "import sys\n",
    "import importlib\n",
    "import numpy as np\n",
    "sys.path.append('../FasterRobusterMotionPlanningLibrary/python')\n",
    "sys.path.append('../')\n",
    "\n",
    "env_param = {'planner_type': 'informedrrtstar',\n",
    "             'nearest_neighbor': 'naive_nearest_neighbor',\n",
    "             'env_name': 'complex_2d',\n",
    "             'plan_struct_type': 'plan_tree'}"
   ]
  },
  {
   "cell_type": "code",
   "execution_count": 5,
   "metadata": {},
   "outputs": [],
   "source": [
    "# set up planner\n",
    "planner_module = importlib.import_module('frmpl.planners.%s' % (env_param['planner_type']))\n",
    "nearest_computer_module = importlib.import_module('frmpl.nearest_computer.%s' % (env_param['nearest_neighbor']))\n",
    "plan_utility = importlib.import_module('frmpl.env.%s_utility' % (env_param['env_name']))\n",
    "plan_struct_module = importlib.import_module('frmpl.planner_structure.%s' % (env_param['plan_struct_type']))\n",
    "\n",
    "nearest_computer = nearest_computer_module.NearestComputer()\n",
    "\n",
    "low = [-10., -10.]\n",
    "high = [10., 10.]\n",
    "low = np.array(low)\n",
    "high = np.array(high)\n",
    "\n",
    "plan_env = plan_utility.Environment(low, high)\n",
    "\n",
    "collision_checker = plan_utility.CollisionChecker()\n",
    "metrics = plan_utility.Metrics()\n",
    "plan_struct = plan_struct_module.PlanStructure()\n",
    "\n",
    "\n",
    "plan_env.set_obs(img, None)\n",
    "collision_checker.set_env(plan_env)\n"
   ]
  },
  {
   "cell_type": "code",
   "execution_count": 20,
   "metadata": {},
   "outputs": [
    {
     "name": "stdout",
     "output_type": "stream",
     "text": [
      "sampled point: \n",
      "[[ 0.          0.        ]\n",
      " [ 0.          1.02040816]\n",
      " [ 0.          2.04081633]\n",
      " [ 0.          3.06122449]\n",
      " [ 0.          4.08163265]\n",
      " [ 0.          5.10204082]\n",
      " [ 0.          6.12244898]\n",
      " [ 0.          7.14285714]\n",
      " [ 0.          8.16326531]\n",
      " [ 0.          9.18367347]\n",
      " [ 0.         10.20408163]\n",
      " [ 0.         11.2244898 ]\n",
      " [ 0.         12.24489796]\n",
      " [ 0.         13.26530612]\n",
      " [ 0.         14.28571429]\n",
      " [ 0.         15.30612245]\n",
      " [ 0.         16.32653061]\n",
      " [ 0.         17.34693878]\n",
      " [ 0.         18.36734694]\n",
      " [ 0.         19.3877551 ]\n",
      " [ 0.         20.40816327]\n",
      " [ 0.         21.42857143]\n",
      " [ 0.         22.44897959]\n",
      " [ 0.         23.46938776]\n",
      " [ 0.         24.48979592]\n",
      " [ 0.         25.51020408]\n",
      " [ 0.         26.53061224]\n",
      " [ 0.         27.55102041]\n",
      " [ 0.         28.57142857]\n",
      " [ 0.         29.59183673]\n",
      " [ 0.         30.6122449 ]\n",
      " [ 0.         31.63265306]\n",
      " [ 0.         32.65306122]\n",
      " [ 0.         33.67346939]\n",
      " [ 0.         34.69387755]\n",
      " [ 0.         35.71428571]\n",
      " [ 0.         36.73469388]\n",
      " [ 0.         37.75510204]\n",
      " [ 0.         38.7755102 ]\n",
      " [ 0.         39.79591837]\n",
      " [ 0.         40.81632653]\n",
      " [ 0.         41.83673469]\n",
      " [ 0.         42.85714286]\n",
      " [ 0.         43.87755102]\n",
      " [ 0.         44.89795918]\n",
      " [ 0.         45.91836735]\n",
      " [ 0.         46.93877551]\n",
      " [ 0.         47.95918367]\n",
      " [ 0.         48.97959184]\n",
      " [ 0.         50.        ]]\n"
     ]
    },
    {
     "data": {
      "image/png": "[encoded data removed]",
      "text/plain": [
       "<Figure size 720x720 with 1 Axes>"
      ]
     },
     "metadata": {
      "needs_background": "light"
     },
     "output_type": "display_data"
    },
    {
     "name": "stdout",
     "output_type": "stream",
     "text": [
      "255\n",
      "255\n",
      "255\n",
      "255\n",
      "255\n",
      "255\n",
      "255\n",
      "255\n",
      "255\n",
      "255\n",
      "255\n",
      "255\n",
      "255\n",
      "255\n",
      "255\n",
      "255\n",
      "255\n",
      "255\n",
      "255\n",
      "255\n",
      "255\n",
      "255\n",
      "255\n",
      "255\n",
      "255\n",
      "255\n",
      "255\n",
      "255\n",
      "255\n",
      "255\n",
      "255\n",
      "255\n",
      "255\n",
      "255\n",
      "255\n",
      "255\n",
      "255\n",
      "255\n",
      "255\n",
      "255\n",
      "255\n",
      "255\n",
      "255\n",
      "255\n",
      "255\n",
      "255\n",
      "255\n",
      "255\n",
      "255\n",
      "255\n"
     ]
    }
   ],
   "source": [
    "# test image coordinate\n",
    "obs = img\n",
    "fig = plt.figure(figsize=(10,10))\n",
    "ax = fig.add_subplot(1,1,1)\n",
    "#ax.set_xlim(-10, 10)\n",
    "#ax.set_ylim(-10, 10)\n",
    "\n",
    "obs_img = np.zeros(list(obs.T.shape) + [3]).astype(int)\n",
    "obs_img[:,:,0] = obs.T\n",
    "obs_img[:,:,1] = obs.T\n",
    "obs_img[:,:,2] = obs.T\n",
    "origin = 'lower'\n",
    "extent = (-10, 10., -10., 10.)\n",
    "ax.imshow(obs_img)#, origin=origin, extent=extent)\n",
    "\n",
    "# sample point\n",
    "x = np.linspace([0., 0.], [0., 50.], 50)\n",
    "#x = np.random.uniform(low=low, high=high)\n",
    "print('sampled point: ')\n",
    "print(x)\n",
    "ax.scatter(x[:,0], x[:,1], c='red', s=10.0)\n",
    "#print('collision checker: ')\n",
    "#print(collision_checker.invalid(x))\n",
    "plt.show()\n",
    "\n",
    "for i in range(50):\n",
    "    print(obs[int(x[i,0]), int(x[i,1])])"
   ]
  },
  {
   "cell_type": "code",
   "execution_count": 34,
   "metadata": {},
   "outputs": [
    {
     "name": "stdout",
     "output_type": "stream",
     "text": [
      "sampled point: \n",
      "[-0.75124132  2.51751969]\n",
      "collision checker: \n",
      "pixel index: \n",
      "[ 92 125]\n",
      "False\n"
     ]
    },
    {
     "data": {
      "image/png": "[encoded data removed]",
      "text/plain": [
       "<Figure size 432x288 with 1 Axes>"
      ]
     },
     "metadata": {
      "needs_background": "light"
     },
     "output_type": "display_data"
    }
   ],
   "source": [
    "# viusalize collision checker\n",
    "obs = img\n",
    "fig = plt.figure()\n",
    "ax = fig.add_subplot(1,1,1)\n",
    "ax.set_xlim(-10, 10)\n",
    "ax.set_ylim(-10, 10)\n",
    "\n",
    "obs_img = np.zeros(list(obs.T.shape) + [3]).astype(int)\n",
    "obs_img[:,:,0] = obs.T\n",
    "obs_img[:,:,1] = obs.T\n",
    "obs_img[:,:,2] = obs.T\n",
    "origin = 'lower'\n",
    "extent = (-10, 10., -10., 10.)\n",
    "ax.imshow(obs_img, origin=origin, extent=extent)\n",
    "\n",
    "# sample point\n",
    "x = np.random.uniform(low=low, high=high)\n",
    "print('sampled point: ')\n",
    "print(x)\n",
    "ax.scatter(x[0], x[1], c='red', s=10.0)\n",
    "print('collision checker: ')\n",
    "print(collision_checker.invalid(x))\n",
    "plt.show()\n"
   ]
  },
  {
   "cell_type": "code",
   "execution_count": 22,
   "metadata": {},
   "outputs": [
    {
     "data": {
      "text/plain": [
       "Text(0, 0.5, 'Y axis label')"
      ]
     },
     "execution_count": 22,
     "metadata": {},
     "output_type": "execute_result"
    },
    {
     "data": {
      "image/png": "[encoded data removed]",
      "text/plain": [
       "<Figure size 720x720 with 1 Axes>"
      ]
     },
     "metadata": {
      "needs_background": "light"
     },
     "output_type": "display_data"
    }
   ],
   "source": [
    "fig = plt.figure(figsize=(10,10))\n",
    "plt.imshow(obs_img)\n",
    "plt.xlabel(\"X axis label\")\n",
    "plt.ylabel(\"Y axis label\")"
   ]
  },
  {
   "cell_type": "code",
   "execution_count": 43,
   "metadata": {},
   "outputs": [
    {
     "name": "stdout",
     "output_type": "stream",
     "text": [
      "path: \n",
      "[[-5.10824424  1.72159507]\n",
      " [-4.83538686  1.2836513 ]\n",
      " [-1.06680708  0.54529324]\n",
      " [ 4.11392151 -0.47146344]\n",
      " [ 6.09433822 -0.85657635]]\n",
      "cost: \n",
      "[0.51599021 3.84022996 5.27955897 2.01751389]\n",
      "time: \n",
      "5.233456611633301\n",
      "sg:\n",
      "[array([-5.10824424,  1.72159507]), array([ 6.06083137, -0.84219145])]\n"
     ]
    },
    {
     "data": {
      "image/png": "[encoded data removed]",
      "text/plain": [
       "<Figure size 432x288 with 1 Axes>"
      ]
     },
     "metadata": {
      "needs_background": "light"
     },
     "output_type": "display_data"
    }
   ],
   "source": [
    "# test stored path\n",
    "import pickle\n",
    "\n",
    "path_dir = '/home/yinglong/Documents/research/learning_motion_planning/data/motion_planning_datasets/forest/'\n",
    "path_name = path_dir + 'path/0/state_1.pkl'\n",
    "f = open(path_name, 'rb')\n",
    "path = pickle.load(f)\n",
    "cost_name = path_dir + 'path/0/cost_1.pkl'\n",
    "f = open(cost_name, 'rb')\n",
    "cost = pickle.load(f)\n",
    "time_name = path_dir + 'path/0/time_1.pkl'\n",
    "f = open(time_name, 'rb')\n",
    "time = pickle.load(f)\n",
    "sg_name = path_dir + 'path/0/start_goal_1.pkl'\n",
    "f = open(sg_name, 'rb')\n",
    "sg = pickle.load(f)\n",
    "\n",
    "print('path: ')\n",
    "print(path)\n",
    "print(\"cost: \")\n",
    "print(cost)\n",
    "print('time: ')\n",
    "print(time)\n",
    "print('sg:')\n",
    "print(sg)\n",
    "\n",
    "obs = img\n",
    "fig = plt.figure()\n",
    "ax = fig.add_subplot(1,1,1)\n",
    "ax.set_xlim(-10, 10)\n",
    "ax.set_ylim(-10, 10)\n",
    "\n",
    "obs_img = np.zeros(list(obs.T.shape) + [3]).astype(int)\n",
    "obs_img[:,:,0] = obs.T\n",
    "obs_img[:,:,1] = obs.T\n",
    "obs_img[:,:,2] = obs.T\n",
    "origin = 'lower'\n",
    "extent = (-10, 10., -10., 10.)\n",
    "ax.imshow(obs_img, origin=origin, extent=extent)\n",
    "\n",
    "\n",
    "ax.plot(path[:,0], path[:,1])\n",
    "\n",
    "\n",
    "plt.show()\n"
   ]
  },
  {
   "cell_type": "code",
   "execution_count": 44,
   "metadata": {},
   "outputs": [
    {
     "data": {
      "text/plain": [
       "array([ 9.78421364,  8.24938877,  8.39627769,  7.92194118,  9.95570958,\n",
       "        8.51769819,  7.67279782, 10.02449913,  9.94465001,  8.90962465])"
      ]
     },
     "execution_count": 44,
     "metadata": {},
     "output_type": "execute_result"
    }
   ],
   "source": [
    "# test stored path\n",
    "import pickle\n",
    "\n",
    "path_dir = '/home/yinglong/Documents/research/learning_motion_planning/data/motion_planning_datasets/forest/'\n",
    "time_all = []\n",
    "for i in range(10):\n",
    "    time_i = []\n",
    "    for j in range(10):        \n",
    "        time_name = path_dir + 'path/%d/time_%d.pkl' % (i, j)\n",
    "        f = open(time_name, 'rb')\n",
    "        time = pickle.load(f)\n",
    "        time_i.append(time)\n",
    "        #print('time: ')\n",
    "        #print(time)\n",
    "    time_all.append(time_i)\n",
    "time_all = np.array(time_all)\n",
    "time_all.mean(axis=1)"
   ]
  },
  {
   "cell_type": "code",
   "execution_count": null,
   "metadata": {},
   "outputs": [],
   "source": []
  }
 ],
 "metadata": {
  "kernelspec": {
   "display_name": "Python [conda env:cse535] *",
   "language": "python",
   "name": "conda-env-cse535-py"
  },
  "language_info": {
   "codemirror_mode": {
    "name": "ipython",
    "version": 3
   },
   "file_extension": ".py",
   "mimetype": "text/x-python",
   "name": "python",
   "nbconvert_exporter": "python",
   "pygments_lexer": "ipython3",
   "version": "3.8.5"
  }
 },
 "nbformat": 4,
 "nbformat_minor": 4
}
